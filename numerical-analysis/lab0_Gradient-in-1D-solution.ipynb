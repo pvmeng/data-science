{
 "cells": [
  {
   "cell_type": "markdown",
   "metadata": {},
   "source": [
    "# The gradient descent algorithm in 1D"
   ]
  },
  {
   "cell_type": "markdown",
   "metadata": {},
   "source": [
    "<h1><a id='toc'></a>Table of contents</h1>\n",
    "\n",
    "<div class=\"alert alert-block alert-info\" style=\"margin-top: 20px\">\n",
    "    <ul>\n",
    "    <li><a href=\"#0\">0. The algorithm \n",
    "    </a></li>\n",
    "    <li><a href=\"#I1\">I Theoretical study\n",
    "    </a></li>\n",
    "        <ul>\n",
    "        <li><a href=\"#I1\">I.1. Existence of a unique minimizer </a></li>\n",
    "        <li><a href=\"#I2\">I.2. Convergence of the algorithm </a></li>\n",
    "        </ul>\n",
    "     <li><a href=\"#II\">II. Numerical implementation </a></li>\n",
    "     <li><a href=\"#III\">III. Varying step and line search strategy </a></li>\n",
    "    </ul>\n",
    "</div>\n",
    "<br>\n",
    "<hr>"
   ]
  },
  {
   "cell_type": "markdown",
   "metadata": {},
   "source": [
    "## 0. The algorithm<a id='0'></a> "
   ]
  },
  {
   "cell_type": "markdown",
   "metadata": {},
   "source": [
    "We consider a function $f\\in C^1(\\mathbf{R},\\mathbf{R})$ and we assume that it is strictly convex and that it admits a (unique) minimizer $x^*$. That is, \n",
    "$$\n",
    "f(x^*)\\le f(x)\\qquad\\text{for every }x\\in\\mathbb{R}.\n",
    "$$"
   ]
  },
  {
   "cell_type": "markdown",
   "metadata": {},
   "source": [
    "**Definition:** The gradient descent method with fixed step $\\alpha>0$ is defined as follows:\n",
    "\n",
    "$\\bullet$ First choose some initial point $x^0\\in\\mathbb{R}$,\n",
    "\n",
    "$\\bullet$ Then for $k=0$,... until convergence: repeat\n",
    "\n",
    "$$\\tag{GD}\\begin{array}{rcl}d^{k}&\\leftarrow &-f'(x^k)\\\\\n",
    "x^{k+1}&\\leftarrow&x^k +\\alpha d^k.\\end{array}$$"
   ]
  },
  {
   "cell_type": "markdown",
   "metadata": {},
   "source": [
    "**Convergence:** We expect that for a good choice of the step (or learning rate) $\\alpha$, the sequence $x^k$ converges towards $x^*$. We will see that this is true under mild assumptions."
   ]
  },
  {
   "cell_type": "markdown",
   "metadata": {},
   "source": [
    "**Stopping criterion:** We need to clarify what we mean by \"until convergence\". First, let us notice that since $f$ is strictly convex and $C^1$,\n",
    "\n",
    "$$\n",
    "f'(x)=0\\quad\\Longleftrightarrow\\quad x=x^*.\n",
    "$$\n",
    "\n",
    "Assuming $x^k\\to x^*$ as $k\\to+\\infty$, since $f'$ is continuous, we have $f'(x^k)\\to f'(x^*)=0$.\n",
    "So a stopping criterion could be $$|f'(x^k)|<\\tau$$ where $\\tau>0$ is a fixed tolerance. However, as we will see in question 5, it is more natural to choose as a stopping criterion\n",
    "$$\n",
    "\\tag{1} |f'(x^k)|\\le\\tau |f'(x^0)|.\n",
    "$$\n",
    "\n",
    "\n",
    "Another point of view is to remark that if $x^k\\to x^*$ then $|x^{k+1}-x^k|\\to0$, so another stopping criterion could be\n",
    "\n",
    "$$\n",
    "\\tag{2} |x^{k+1}-x^k|\\le\\tau |x^1-x^0|.\n",
    "$$"
   ]
  },
  {
   "cell_type": "markdown",
   "metadata": {},
   "source": [
    "## I. Theoretical study assuming $f$ strongly convex <a id='I'></a> "
   ]
  },
  {
   "cell_type": "markdown",
   "metadata": {},
   "source": [
    "### 1.1. Existence of a unique minimizer<a id='I1'></a> "
   ]
  },
  {
   "cell_type": "markdown",
   "metadata": {},
   "source": [
    "We assume that $f\\in C^1(\\mathbf{R})$ and there exists some $\\delta>0$ such that\n",
    "\n",
    "$$\\tag{3}(f'(x)-f'(y))(x-y)\\ge\\delta|x-y|^2\\quad\\forall\\,x,y\\in\\mathbf{R}.$$ "
   ]
  },
  {
   "cell_type": "markdown",
   "metadata": {},
   "source": [
    "**Question 1.** Show that $f$ is coercive<br>\n",
    "(*Hint: using the Taylor formula with integral remainder, show that $$f(x)\\ge f(0)+f'(0)x+\\delta x^2/2,$$ first for $x>0$, then for $x<0$.*)\n",
    "\n",
    "**Question 2.** Show that $f$ is strictly convex. \n",
    "\n",
    "**Question 3.** Deduce that $f$ admits a unique minimizer $x^*\\in\\mathbb{R}$.\n",
    "\n",
    "**Question 4.** We assume now that $f\\in C^2(\\mathbb{R})$ and that there exists $\\delta>0$ such that $f''\\ge\\delta$. Show that (3) holds true."
   ]
  },
  {
   "cell_type": "markdown",
   "metadata": {},
   "source": [
    "<div class=\"alert alert-block alert-info\" style=\"margin-top: 0px\">\n",
    "    \n",
    "**Solution 1.** \n",
    "We write for $x>0$, \n",
    "$$\n",
    "\\begin{array}{rcl}\n",
    "f(x)&=&f(0)+\\displaystyle\\int_0^x f'(t)\\, dt\\\\\n",
    "&=&f(0) + f'(0)x + \\displaystyle\\int_0^x \\left(f'(t)-f'(0)\\right)\\, dt\\\\\n",
    "&=&f(0) + f'(0)x + \\displaystyle\\int_0^x \\dfrac{(f'(t)-f'(0))(t-0)}{t}\\, dt\\\\\n",
    "\\end{array}\n",
    "$$\n",
    "For $t>0$, there holds \n",
    "$$\n",
    "(f'(t)-f'(0))(t-0)\\ge \\delta t^2,\n",
    "$$\n",
    "hence\n",
    "$$\n",
    "f(x)\\ge f(0)+f'(0)x + \\delta \\displaystyle\\int_0^x t^2\\, dt\n",
    "= f(0)+f'(0)x + \\dfrac{\\delta}2 x^2.\n",
    "$$\n",
    "Similarly, for $x<0$, we write\n",
    "$$\n",
    "\\begin{array}{rcl}\n",
    "f(x)&=&f(0)-\\displaystyle\\int_0^{-x} f'(-t)\\, dt\\\\\n",
    "&=&f(0) + f'(0)x + \\displaystyle\\int_0^{-x} \\dfrac{(f'(0)-f'(-t))(0-(-t))}t\\, dt\\\\\n",
    "&\\ge &f(0) + f'(0)x + \\dfrac{\\delta}2x^2.\n",
    "\\end{array}\n",
    "$$\n",
    "So in any case\n",
    "$$\n",
    "f(x)\\ge f(0)+f'(0)x + \\dfrac{\\delta}2x^2\\ \\stackrel{x\\to\\pm \\infty}\\longrightarrow +\\infty.\n",
    "$$\n",
    "</div>"
   ]
  },
  {
   "cell_type": "markdown",
   "metadata": {},
   "source": [
    "<div class=\"alert alert-block alert-info\" style=\"margin-top: 0px\">\n",
    "    \n",
    "**Solution 2.** By the course, $f$ is $\\delta$-convex hence strictly convex.\n",
    "\n",
    "**Solution 3.** $f$ is continuous and coercive, so it admits at least one minmizer. Moreover $f$ is stricly convex so this minimizer is unique.\n",
    "\n",
    "**Solution 4.** By the course, if $f$ is $C^2$, $f$ is $\\delta$-convex if and only if $f''\\ge \\delta$.\n",
    "    \n",
    "</div>    "
   ]
  },
  {
   "cell_type": "markdown",
   "metadata": {},
   "source": [
    "### 1.2 Convergence of the algorithm<a id='I2'></a> "
   ]
  },
  {
   "cell_type": "markdown",
   "metadata": {},
   "source": [
    "**Question 5.**  Let us consider an affine mapping defined by $A(x)=ax+b$ with $a,b\\in\\mathbf{R}$, $a\\ne0$. Let $\\Lambda>0$ and $\\gamma\\in\\mathbf{R}$. We set \n",
    "$$F(x):=\\Lambda f(A(x))+\\gamma.$$\n",
    "Let $X^k$ be the sequence defined by the gradient descent algorithm for the optimization of $F$ with starting point $X^0:=A^{-1}(x^0)$ and para-meter $\\alpha$. <br>\n",
    "\n",
    "Show that if $\\Lambda=1/a^2$, then for every $k\\ge0$, $X^k=A^{-1}(x^k)$.<br>\n",
    "\n",
    "Show that for $X^k=A(x^k)$ the stopping criterion (1) is satisfied simultaneously by $(F,X^k)$ and $(f,x^k)$."
   ]
  },
  {
   "cell_type": "markdown",
   "metadata": {},
   "source": [
    "<div class=\"alert alert-block alert-info\" style=\"margin-top: 0px\">\n",
    "    \n",
    "**Solution 5.**\n",
    "\n",
    "Let us first notice that by the chain rule.\n",
    "$$\n",
    "F'(X)= \\Lambda a f'(A(X)).\n",
    "$$\n",
    "\n",
    "Let us assume $\\Lambda=1/a^2$ and $X^0=A^{-1}(x^0)$\n",
    "Let us show by induction on $k$ that $X^k=A^{-1}(x^k)$.<br>\n",
    "First, this is true for $k=0$.<br>\n",
    "Next assume that this is true for some $k\\ge0$, we have\n",
    "$$\n",
    "\\begin{array}{rcl}\n",
    "X^{k+1} &=& X^k - \\alpha F'(X^k)\\\\\n",
    "&=&A^{-1}(x^k) - \\alpha \\Lambda a f'(A(X^k))\\\\\n",
    "&=&A^{-1}(x^k)-\\alpha a^{-1} f'(x^k)\\\\\n",
    "&=&A^{-1}(x^k-\\alpha f'(x^k)) \\quad\\text{(because }A^{-1}(y)=a^{-1}y + b'\\text{)} \\\\\n",
    "&=& A^{-1}(x^k).\n",
    "\\end{array}\n",
    "$$\n",
    "This proves by induction that $X^k=A^{-1}(x^k)$ for $k\\ge 0$.\n",
    "\n",
    "If $X^k=A(x^k)$, then \n",
    "$$\n",
    "F'(X^k)=\\Lambda a f'(A(X^k)) =\\Lambda a f'(x^k),\n",
    "$$\n",
    "and since $\\Lambda a>0$,\n",
    "$$\n",
    "|F'(X^k)|\\le \\tau |F'(X^0)| \\quad\\Longleftrightarrow\\quad |f'(x^k)|\\le \\tau |f'(x^0)|. \n",
    "$$\n",
    "    \n",
    "</div>"
   ]
  },
  {
   "cell_type": "markdown",
   "metadata": {},
   "source": [
    "We still assume that $f\\in C^1(\\mathbb{R})$ and that (3) holds true for some $\\beta>0$. We assume moreover that $f'$ is Lipschitz continuous, that is there exists $L>0$ such that \n",
    "$$\n",
    "\\tag{4}\n",
    "|f'(x)-f'(y)|\\le L|x-y|\\qquad\\forall x,y\\in\\mathbf{R}\n",
    "$$"
   ]
  },
  {
   "cell_type": "markdown",
   "metadata": {},
   "source": [
    "We fix $\\alpha,\\tau>0$ and $x^0\\in\\mathbf{R}$ and denote $x^k$ the sequence defined by the gradient descent algorithm (GD)."
   ]
  },
  {
   "cell_type": "markdown",
   "metadata": {},
   "source": [
    "**Question 6.**  Show that for $k\\ge0$,\n",
    "$$\n",
    "|x^{k+1}-x^*|^2\\le (1-2\\alpha\\delta + \\alpha^2 L^2)|x^k-x^*|^2.\n",
    "$$\n",
    "(*Hint: use $f'(x^*)=0$, (3) and (4)*)\n",
    "\n",
    "Deduce that for $0<\\alpha<2\\delta/L^2$, the algorithm converges and that the convergence is at least of order one: there exists $\\lambda=\\lambda(\\alpha)\\in(0,1)$ such that\n",
    "$$\n",
    "|x^k-x^*|\\le \\lambda^k |x^k-x^0|\\qquad\\forall\\,k\\ge0.\n",
    "$$\n",
    "The sequence converges at least geometrically.\n",
    "\n",
    "\n",
    "What is the optimal choice for $\\alpha$ ?"
   ]
  },
  {
   "cell_type": "markdown",
   "metadata": {},
   "source": [
    "<div class=\"alert alert-block alert-info\" style=\"margin-top: 0px\">\n",
    "\n",
    "**Solution 6.** Let $k\\ge 0$, using the definition of $x^{k+1}$ and $f'(x^*)=0$, we write\n",
    "$$\n",
    "x^{k+1} - x^* = x^- x^* - \\alpha (f'(x^k)-f'(x^*)).\n",
    "$$\n",
    "Squaring and expanding the square, we have\n",
    "$$\n",
    "\\begin{array}{rcl}\n",
    "|x^{k+1} - x^*|^2 &=& |x^k- x^*|^2 - 2\\alpha (f'(x^k)-f'(x^*))(x^k - x^*) \\\\\n",
    "&&+ |f'(x^k)-f'(x^*)|^2.\n",
    "\\end{array}\n",
    "$$\n",
    "By (3) and (4), there holds,\n",
    "$$\n",
    "\\begin{array}{rcl}\n",
    "(f'(x^k)-f'(x^*))(x^k - x^*)&\\ge& \\delta |x^k -x^*|^2,\\\\\n",
    "|f'(x^k)-f'(x^*)|^2 &\\le& L^2 |x^k - x^*|^2,\n",
    "\\end{array}\n",
    "$$\n",
    "hence \n",
    "$$\n",
    "\\tag{ineq.}\n",
    "|x^{k+1} - x^*|^2\\le  \\left(1 -2\\alpha \\delta + \\alpha^2 L^2\\right)|x^k - x^*|^2.\n",
    "$$<br>\n",
    "\n",
    "Before going further, notice that for $x\\ne y$\n",
    "$$\n",
    "\\delta |y-x|^2\\le (f'(y)-f'(x))(y-x)\\le L |y-x|^2,\n",
    "$$\n",
    "hence $\\delta\\le L$.<br>\n",
    "Let us now define $q(\\alpha)=1 -2\\alpha \\delta + \\alpha^2 L^2$. This function is just the coefficient in the right hand side of (ineq.). This a second order polynomial. A quick study shows that $q$ is minimal at $\\alpha^*:=\\delta/L^2$ and \n",
    "$$\n",
    "q(\\alpha^*) = \\min q = 1 - \\dfrac{\\alpha^2}{L^2}\\in [0,1), \n",
    "$$\n",
    "because $\\delta\\le L$. Moreover\n",
    "$$\n",
    "q(\\alpha)<1\\quad\\Longleftrightarrow\\quad \\alpha\\in(0,2\\alpha^*). \n",
    "$$\n",
    "Therefore for $\\alpha\\in(0,2\\alpha^*)$, there holds, for $k\\ge0$,\n",
    "$$\n",
    "|x^{k+1}-x^*|\\le \\lambda|x^k-x^*|,\n",
    "$$\n",
    "with $\\lambda:=\\sqrt{q(\\alpha)}\\in[0,1)$. We deduce, for $k\\ge 0$\n",
    "$$\n",
    "|x^k-x^*|\\le \\lambda^k |x^0-x^*|\\quad\\stackrel{k\\to\\infty}\\longrightarrow 0.\n",
    "$$\n",
    "We observe that the convergence is geometric (at least).\n",
    "\n",
    "</div>"
   ]
  },
  {
   "cell_type": "markdown",
   "metadata": {},
   "source": [
    "## II. Numerical implementation<a id='II'></a> "
   ]
  },
  {
   "cell_type": "markdown",
   "metadata": {},
   "source": [
    "We apply the gradient descent method to the minimization on $\\mathbf{R}$ of \n",
    "$$\n",
    "f(x):=x^2 + \\sin x.\n",
    "$$"
   ]
  },
  {
   "cell_type": "markdown",
   "metadata": {},
   "source": [
    "**Question 7.** Show that there exist $\\delta,L>0$ such that $f$ satisfies (3) and (4). Give explicit values for $\\delta$ and $L$."
   ]
  },
  {
   "cell_type": "code",
   "execution_count": 1,
   "metadata": {},
   "outputs": [],
   "source": [
    "import numpy as np\n",
    "from matplotlib import pyplot as plt"
   ]
  },
  {
   "cell_type": "code",
   "execution_count": 2,
   "metadata": {},
   "outputs": [
    {
     "data": {
      "image/png": "[encoded data removed]",
      "text/plain": [
       "<Figure size 432x288 with 1 Axes>"
      ]
     },
     "metadata": {
      "needs_background": "light"
     },
     "output_type": "display_data"
    },
    {
     "data": {
      "image/png": "[encoded data removed]",
      "text/plain": [
       "<Figure size 432x288 with 1 Axes>"
      ]
     },
     "metadata": {
      "needs_background": "light"
     },
     "output_type": "display_data"
    }
   ],
   "source": [
    "f=lambda x: x**2 + np.sin(x)\n",
    "df = lambda x: 2*x + np.cos(x)\n",
    "x=np.linspace(-1,1,300)\n",
    "plt.plot(x,f(x))\n",
    "plt.title(r\"graph of $f$\")\n",
    "plt.show()\n",
    "plt.plot(x,df(x))\n",
    "plt.plot(x,0*x)\n",
    "plt.title(r\"graph of $f'$\")\n",
    "plt.show()"
   ]
  },
  {
   "cell_type": "markdown",
   "metadata": {},
   "source": [
    "**Question 8.** Implement the algorithm. Choose for $\\alpha$ the value computed at the end of question 6. Take $x^0=0$ and use the stopping criterion (1) with $\\tau=10^{-11}$.\n",
    "\n",
    "To avoid infinite loops, we add a stopping criterion $k\\le maxiter$ with $maxiter=10^3$.\n",
    "\n",
    "We will store the values of $x^k$ and $f'(x^k)$ in the lists *list_x*, *list_g*. They are transformed into numpy arrays at the end."
   ]
  },
  {
   "cell_type": "code",
   "execution_count": 3,
   "metadata": {},
   "outputs": [],
   "source": [
    "tau, maxiter=1e-11, 1000\n",
    "alpha = 1/9  # (delta =1, L=3)\n",
    "\n",
    "# initializations\n",
    "k=0\n",
    "x=0       # initial point\n",
    "g= df(x)  # derivative of f at the initial point \n",
    "list_x, list_g= [x], [g]\n",
    "Tau=tau*np.abs(g)\n",
    "\n",
    "# optimization loop\n",
    "while True:\n",
    "    if k>=maxiter or np.abs(g)<Tau: break\n",
    "    x = x - alpha*g   # update of x\n",
    "    g = df(x)         # update of f'(x)\n",
    "    list_x.append(x); list_g.append(g)\n",
    "\n",
    "# At the end, we put the stored lists\n",
    "# into numpy arrays    \n",
    "list_x=np.array(list_x);list_g=np.array(list_g)"
   ]
  },
  {
   "cell_type": "markdown",
   "metadata": {},
   "source": [
    "**Question 9.** Represent $|df(x^k)|$ as a function of $k$ in log scale (use *plt.semilogy*)."
   ]
  },
  {
   "cell_type": "code",
   "execution_count": 4,
   "metadata": {},
   "outputs": [
    {
     "data": {
      "image/png": "[encoded data removed]",
      "text/plain": [
       "<Figure size 432x288 with 1 Axes>"
      ]
     },
     "metadata": {
      "needs_background": "light"
     },
     "output_type": "display_data"
    }
   ],
   "source": [
    "# plot of |f'(xk)| in log scale\n",
    "plt.semilogy(np.abs(list_g),'.')\n",
    "plt.title(r\"$|f'(x^k)|$\")\n",
    "plt.show()"
   ]
  },
  {
   "cell_type": "markdown",
   "metadata": {},
   "source": [
    "**Question 10.** Represent $|x^k-x^*|$ as a function of $k$ in log scale. To get a precise approximation of $x^*$, Newton's method is implemented below for solving $f'(x)=0$."
   ]
  },
  {
   "cell_type": "code",
   "execution_count": 5,
   "metadata": {},
   "outputs": [
    {
     "name": "stdout",
     "output_type": "stream",
     "text": [
      "-0.12241743810962724\n",
      "-0.0010790504957215452\n",
      "-8.835361287040655e-08\n",
      "-6.661338147750939e-16\n",
      "0.0\n"
     ]
    }
   ],
   "source": [
    "# Newton method for the computation \n",
    "# of a precise approximation of x*\n",
    "ddf = lambda x:2 - np.sin(x)\n",
    "x=0\n",
    "for j in range(5):\n",
    "    x = x - df(x)/ddf(x)\n",
    "    print(df(x))\n",
    "xstar=x"
   ]
  },
  {
   "cell_type": "code",
   "execution_count": 6,
   "metadata": {},
   "outputs": [
    {
     "data": {
      "image/png": "[encoded data removed]",
      "text/plain": [
       "<Figure size 432x288 with 1 Axes>"
      ]
     },
     "metadata": {
      "needs_background": "light"
     },
     "output_type": "display_data"
    }
   ],
   "source": [
    "# plot of |xk-x*| in log scale\n",
    "plt.semilogy(np.abs(list_x-xstar),'.')\n",
    "plt.title(r\"$|x-x^*|$\")\n",
    "plt.show()"
   ]
  },
  {
   "cell_type": "markdown",
   "metadata": {},
   "source": [
    "**Question 11.** We now consider $$f(x):=x^2 + 12\\sin x.$$\n",
    "\n",
    "Find numerical approximations of the two local minimizers of $f$."
   ]
  },
  {
   "cell_type": "code",
   "execution_count": 7,
   "metadata": {},
   "outputs": [
    {
     "data": {
      "image/png": "[encoded data removed]",
      "text/plain": [
       "<Figure size 432x288 with 1 Axes>"
      ]
     },
     "metadata": {
      "needs_background": "light"
     },
     "output_type": "display_data"
    },
    {
     "data": {
      "image/png": "[encoded data removed]",
      "text/plain": [
       "<Figure size 432x288 with 1 Axes>"
      ]
     },
     "metadata": {
      "needs_background": "light"
     },
     "output_type": "display_data"
    }
   ],
   "source": [
    "f=lambda x: x**2 + 12*np.sin(x)\n",
    "df = lambda x: 2*x + 12*np.cos(x)\n",
    "x=np.linspace(-5,8,300)\n",
    "plt.plot(x,f(x))\n",
    "plt.title(r\"graph of $f$\")\n",
    "plt.show()\n",
    "plt.plot(x,df(x))\n",
    "plt.plot(x,0*x)\n",
    "plt.title(r\"graph of $f'$\")\n",
    "plt.show()"
   ]
  },
  {
   "cell_type": "code",
   "execution_count": 8,
   "metadata": {},
   "outputs": [
    {
     "name": "stdout",
     "output_type": "stream",
     "text": [
      "x1=-1.3447510453776417\n"
     ]
    },
    {
     "data": {
      "image/png": "[encoded data removed]",
      "text/plain": [
       "<Figure size 432x288 with 1 Axes>"
      ]
     },
     "metadata": {
      "needs_background": "light"
     },
     "output_type": "display_data"
    }
   ],
   "source": [
    "## Computation of an approximation of the global\n",
    "## minimizer (between -2 and 0)\n",
    "\n",
    "tau, maxiter=1e-11, 1000\n",
    "alpha = 1/12\n",
    "\n",
    "k=0\n",
    "x=-1   # inital data\n",
    "g= df(x)\n",
    "list_x, list_g= [x], [g]\n",
    "\n",
    "Tau=tau*np.abs(g)\n",
    "while True:\n",
    "    if k>=maxiter or np.abs(g)<Tau: break\n",
    "    x = x - alpha*g\n",
    "    g = df(x)\n",
    "    list_x.append(x); list_g.append(g)\n",
    "\n",
    "print(f\"x1={x}\") \n",
    "\n",
    "# graphical represention of |f'(xk)|\n",
    "list_x1=np.array(list_x);list_g1=np.array(list_g)\n",
    "plt.semilogy(np.abs(list_g1),'.')\n",
    "plt.title(r\"|f'(x^k)|\")\n",
    "plt.show()"
   ]
  },
  {
   "cell_type": "code",
   "execution_count": 9,
   "metadata": {},
   "outputs": [
    {
     "name": "stdout",
     "output_type": "stream",
     "text": [
      "x2=3.9858262065125154\n"
     ]
    },
    {
     "data": {
      "image/png": "[encoded data removed]",
      "text/plain": [
       "<Figure size 432x288 with 1 Axes>"
      ]
     },
     "metadata": {
      "needs_background": "light"
     },
     "output_type": "display_data"
    }
   ],
   "source": [
    "## Computation of an approximation of the local\n",
    "## minimizer (between 4 and 5)\n",
    "\n",
    "tau, maxiter=1e-11, 1000\n",
    "alpha = 1/12\n",
    "k=0\n",
    "x=4   # initial guess\n",
    "g= df(x)\n",
    "list_x, list_g= [x], [g]\n",
    "\n",
    "Tau=tau*np.abs(g)\n",
    "while True:\n",
    "    if k>=maxiter or np.abs(g)<Tau: break\n",
    "    x = x - alpha*g\n",
    "    g = df(x)\n",
    "    list_x.append(x); list_g.append(g)\n",
    "\n",
    "print(f\"x2={x}\") \n",
    "\n",
    "# graphical represention of |f'(xk)|\n",
    "list_x2=np.array(list_x);list_g2=np.array(list_g)\n",
    "plt.semilogy(np.abs(list_g2),'.')\n",
    "plt.title(r\"|f'(x^k)|\")\n",
    "plt.show()"
   ]
  },
  {
   "cell_type": "code",
   "execution_count": 10,
   "metadata": {},
   "outputs": [
    {
     "name": "stdout",
     "output_type": "stream",
     "text": [
      "-0.3551297211675175\n",
      "-0.0008282938554309283\n",
      "-4.918331519832009e-09\n",
      "-8.881784197001252e-16\n",
      "xstar1=-1.344751045375789\n",
      "\n",
      "0.0007841926017739809\n",
      "2.0366578645791833e-08\n",
      "8.881784197001252e-16\n",
      "8.881784197001252e-16\n",
      "xstar2=3.9858262065124905\n"
     ]
    }
   ],
   "source": [
    "# Newton method for the computation of a \n",
    "# precise approximation of x*1 (local minimizer)\n",
    "# and x*2 (global minimizer)\n",
    "ddf = lambda x:2 - 12*np.sin(x)\n",
    "x=-1\n",
    "for j in range(4):\n",
    "    x = x - df(x)/ddf(x)\n",
    "    print(df(x))\n",
    "xstar1=x\n",
    "print(f\"xstar1={x}\\n\")\n",
    "x=4\n",
    "for j in range(4):\n",
    "    x = x - df(x)/ddf(x)\n",
    "    print(df(x))\n",
    "xstar2=x\n",
    "print(f\"xstar2={x}\")"
   ]
  },
  {
   "cell_type": "code",
   "execution_count": 11,
   "metadata": {},
   "outputs": [
    {
     "data": {
      "image/png": "[encoded data removed]",
      "text/plain": [
       "<Figure size 432x288 with 1 Axes>"
      ]
     },
     "metadata": {
      "needs_background": "light"
     },
     "output_type": "display_data"
    },
    {
     "data": {
      "image/png": "[encoded data removed]",
      "text/plain": [
       "<Figure size 432x288 with 1 Axes>"
      ]
     },
     "metadata": {
      "needs_background": "light"
     },
     "output_type": "display_data"
    }
   ],
   "source": [
    "plt.semilogy(np.abs(list_x1-xstar1),'.')\n",
    "plt.title(r\"$|x^k_1-x^*_1|$\")\n",
    "plt.show()\n",
    "\n",
    "plt.semilogy(np.abs(list_x2-xstar2),'.')\n",
    "plt.title(r\"$|x^k_2-x^*_2|$\")\n",
    "plt.show()"
   ]
  },
  {
   "cell_type": "markdown",
   "metadata": {},
   "source": [
    "## III. Varying step and line search strategy <a id='III'></a> \n",
    "\n",
    "The gradient descent algorithm with varying step is defined as follows. Let $x^0\\in \\mathbb{R}$ (we try to choose $x^0$ close to $x^*$, if no hint, then we take $x^0=0$). Then, for $k=0,1,2,\\ldots\\ $ up to onvergence, repeat:\n",
    "\n",
    "$\\nabla$: gradient \\[[video](https://www.youtube.com/watch?v=tIpKfDc295M)\\]\\[[wiki](https://fr.wikipedia.org/wiki/Gradient)\\]\n",
    "$$\n",
    "\\left|\\quad\n",
    "\\begin{array}{lcl}\n",
    "d^k& \\longleftarrow & -\\nabla f(x^k),\\\\ \n",
    "x^{k+1}&\\longleftarrow &x^k+\\alpha_k d^k\n",
    "\\end{array}\n",
    "\\right.\n",
    "$$"
   ]
  },
  {
   "cell_type": "markdown",
   "metadata": {},
   "source": [
    "Here the learning rate $\\alpha_k>0$ depends on $k$. There are two competing principles that should govern the choice of the learning rate:<br>\n",
    "$\\quad\\bullet$ If it is too small, we may approach the minimizer very slowly.<br>\n",
    "$\\quad\\bullet$ If it is too large, the sequence $x^k$ may diverge."
   ]
  },
  {
   "cell_type": "markdown",
   "metadata": {},
   "source": [
    "To find a convenient learning rate, we propose to use a Line Search method based on Armijo's condition. The general algorithm is the following:<br>\n",
    "$\\quad\\bullet$ Pick $x^0\\in\\mathbf{R}$,<br>\n",
    "$\\quad\\bullet$ Then, for $k=0,1,2,\\ldots\\ $ up to onvergence, repeat:\n",
    "\n",
    "$$\n",
    "\\left|\\quad\n",
    "\\begin{array}{lcl}\n",
    "d^k& \\longleftarrow & -\\nabla f(x^k),\\\\ \n",
    "\\alpha_k&\\longleftarrow & \\text{Line search }\\Big(t\\mapsto f(x^k+t d^k)\\Big)\\\\\n",
    "x^{k+1}&\\longleftarrow &x^k+\\alpha_k d^k\n",
    "\\end{array}\n",
    "\\right.\n",
    "$$"
   ]
  },
  {
   "cell_type": "markdown",
   "metadata": {},
   "source": [
    "The second step consists in an approximate optimization of \n",
    "$$\n",
    "f_k(t):= f(x_k+td_k).\n",
    "$$\n",
    "The function $f_k$ is strongly convex and $C^1$, because $f$ is. We compute \n",
    "$$f_k'(0)=d^kf'(x^k)=-|d^k|^2.$$\n",
    "From now on, we assume $f'(x^k)=-d^k\\ne 0$ otherwise $x^k=x^*$ and the algorithm has already converged. We thus have $f_k'(0)<0$, so the minimizer of $f_k$ is positive. Moreover the Taylor expansion of $f$ at 0 of order 1 reads\n",
    "$$\\tag{5}\n",
    "f_k(t)=f_k(0) - |d^k|^2 t + o(t),\n",
    "$$\n",
    "hence $f_k(t)<f_k(0)$ for $t>0$ small enough.\n",
    "\n",
    "We now introduce a parameter $\\gamma\\in(0,1)$. We say that $t$ satisfies the Armijo condition if \n",
    "$$\n",
    "f_k(t)\\le f_k(0) - \\gamma |d^k|^2 t.\\tag{Armijo}\n",
    "$$\n",
    "From (5), we have\n",
    "$$\n",
    "f_k(t)\\le f_k(0) - \\gamma |d^k|^2 t -(1-\\gamma)|d^k|^2 t + o(t),\n",
    "$$\n",
    "and since $(1-\\gamma)|d^k|^2>0$, the condition (Armijo) is satisfied for $t>0$ small enough. "
   ]
  },
  {
   "cell_type": "markdown",
   "metadata": {},
   "source": [
    "We are now ready to describe the Line Search. We introduce two parameters $\\alpha^0>0$ and $\\beta\\in(0,1)$. The algorithm computing $\\alpha_k$ is the following. <br>\n",
    "$\\quad\\bullet$ First set $t\\longleftarrow\\alpha^0$.<br>\n",
    "$\\quad\\bullet$ Then, while $t$ does not satisfy (Armijo), set $t\\longleftarrow \\beta t$.<br>\n",
    "$\\quad\\bullet$ Eventually, set $\\alpha_k\\longleftarrow t$. \n"
   ]
  },
  {
   "cell_type": "markdown",
   "metadata": {},
   "source": [
    "**Question 12.** Take again $f(x)=x^2+\\sin x$. Implement the above method, with $\\gamma=0.5$, $\\beta=0.75$ and $\\alpha^0=2\\alpha$ where $\\alpha$ is the learning rate you used in the gradient descent algorithm with constant step . "
   ]
  },
  {
   "cell_type": "code",
   "execution_count": null,
   "metadata": {},
   "outputs": [],
   "source": [
    "f = lambda x: x**2 + np.sin(x)\n",
    "df = lambda x: 2*x + np.cos(x)\n",
    "\n",
    "tau, maxiter=1e-11, 40\n",
    "maxiterLS=10\n",
    "alpha0,beta,gamma = 2/9,.75,.5\n",
    "\n",
    "k=0\n",
    "x=0\n",
    "fx=f(x)\n",
    "g= df(x)\n",
    "list_x, list_g= [x], [g]\n",
    "list_alpha = []\n",
    "Tau=tau*np.abs(g)\n",
    "while True:\n",
    "    if k>=maxiter or np.abs(g)<Tau: break\n",
    "    k+=1    \n",
    "    j, c, alpha=0, -gamma*g**2, alpha0\n",
    "    xj=x - alpha*g\n",
    "    fxj=f(xj)\n",
    "    while j<maxiterLS and fxj>fx + alpha*c:\n",
    "        j+=1\n",
    "        alpha*=beta\n",
    "        xj=x-alpha*g\n",
    "        fxj=f(xj)\n",
    "    x, fx, g=xj, fxj, df(xj)\n",
    "    list_x.append(x); list_g.append(g)\n",
    "    list_alpha.append(alpha)\n",
    "    \n",
    "    \n",
    "list_x=np.array(list_x);list_g=np.array(list_g)\n",
    "list_alpha=np.array(list_alpha)"
   ]
  },
  {
   "cell_type": "code",
   "execution_count": null,
   "metadata": {},
   "outputs": [],
   "source": [
    "plt.semilogy(np.abs(list_g),'.')\n",
    "plt.title(r\"$|f'(x^k)|$\")\n",
    "plt.show()"
   ]
  },
  {
   "cell_type": "code",
   "execution_count": null,
   "metadata": {},
   "outputs": [],
   "source": [
    "plt.semilogy(np.abs(list_x-xstar),'.')\n",
    "plt.title(r\"$|x^k-x^*|$\")\n",
    "plt.show()"
   ]
  },
  {
   "cell_type": "code",
   "execution_count": null,
   "metadata": {},
   "outputs": [],
   "source": [
    "plt.semilogy(list_alpha,'.')\n",
    "plt.title(r\"$\\alpha_k$\")\n",
    "plt.show()"
   ]
  }
 ],
 "metadata": {
  "kernelspec": {
   "display_name": "Python 3 (ipykernel)",
   "language": "python",
   "name": "python3"
  },
  "language_info": {
   "codemirror_mode": {
    "name": "ipython",
    "version": 3
   },
   "file_extension": ".py",
   "mimetype": "text/x-python",
   "name": "python",
   "nbconvert_exporter": "python",
   "pygments_lexer": "ipython3",
   "version": "3.9.2"
  }
 },
 "nbformat": 4,
 "nbformat_minor": 4
}
