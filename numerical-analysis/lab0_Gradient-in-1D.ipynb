{
 "cells": [
  {
   "cell_type": "markdown",
   "metadata": {},
   "source": [
    "# The gradient descent algorithm in 1D"
   ]
  },
  {
   "cell_type": "markdown",
   "metadata": {},
   "source": [
    "<h1><a id='toc'></a>Table of contents</h1>\n",
    "\n",
    "<div class=\"alert alert-block alert-info\" style=\"margin-top: 20px\">\n",
    "    <ul>\n",
    "    <li><a href=\"#0\">0. The algorithm \n",
    "    </a></li>\n",
    "    <li><a href=\"#I1\">I Theoretical study\n",
    "    </a></li>\n",
    "        <ul>\n",
    "        <li><a href=\"#I1\">I.1. Existence of a unique minimizer </a></li>\n",
    "        <li><a href=\"#I2\">I.2. Convergence of the algorithm </a></li>\n",
    "        </ul>\n",
    "     <li><a href=\"#II\">II. Numerical implementation </a></li>\n",
    "     <li><a href=\"#III\">III. Varying step and line search strategy </a></li>\n",
    "    </ul>\n",
    "</div>\n",
    "<br>\n",
    "<hr>"
   ]
  },
  {
   "cell_type": "markdown",
   "metadata": {},
   "source": [
    "## 0. The algorithm<a id='0'></a> "
   ]
  },
  {
   "cell_type": "markdown",
   "metadata": {},
   "source": [
    "We consider a function $f\\in C^1(\\mathbf{R},\\mathbf{R})$ and we assume that it is strictly convex and that it admits a (unique) minimizer $x^*$. That is, \n",
    "$$\n",
    "f(x^*)\\le f(x)\\qquad\\text{for every }x\\in\\mathbb{R}.\n",
    "$$"
   ]
  },
  {
   "cell_type": "markdown",
   "metadata": {},
   "source": [
    "**Definition:** The gradient descent method with fixed step $\\alpha>0$ is defined as follows:\n",
    "\n",
    "$\\bullet$ First choose some initial point $x^0\\in\\mathbb{R}$,\n",
    "\n",
    "$\\bullet$ Then for $k=0$,... up to convergence: repeat\n",
    "\n",
    "$$\\tag{GD}\\begin{array}{rcl}d^{k}&\\leftarrow &-f'(x^k)\\\\\n",
    "x^{k+1}&\\leftarrow&x^k +\\alpha d^k.\\end{array}$$"
   ]
  },
  {
   "cell_type": "markdown",
   "metadata": {},
   "source": [
    "**Convergence:** We expect that for a good choice of the step (or learning rate) $\\alpha$, the sequence $x^k$ converges towards $x^*$. We will see that this is true under the strong convexity  assumption."
   ]
  },
  {
   "cell_type": "markdown",
   "metadata": {},
   "source": [
    "**Stopping criterion:** We need to clarify what we mean by \"until convergence\". First, let us notice that since $f$ is strictly convex and $C^1$,\n",
    "\n",
    "$$\n",
    "f'(x)=0\\quad\\Longleftrightarrow\\quad x=x^*.\n",
    "$$\n",
    "\n",
    "Assuming $x^k\\to x^*$ as $k\\to+\\infty$, since $f'$ is continuous, we have $f'(x^k)\\to f'(x^*)=0$.\n",
    "So a stopping criterion could be $$|f'(x^k)|<\\tau$$ where $\\tau>0$ is a fixed tolerance. However, as we will see in question 5, it is more natural to choose as a stopping criterion\n",
    "$$\n",
    "\\tag{1} |f'(x^k)|\\le\\tau |f'(x^0)|.\n",
    "$$\n",
    "\n",
    "\n",
    "Another point of view is to remark that if $x^k\\to x^*$ then $|x^{k+1}-x^k|\\to0$, so another stopping criterion could be\n",
    "\n",
    "$$\n",
    "\\tag{2} |x^{k+1}-x^k|\\le\\tau |x^1-x^0|.\n",
    "$$"
   ]
  },
  {
   "cell_type": "markdown",
   "metadata": {},
   "source": [
    "## I. Theoretical study assuming $f$ strongly convex <a id='I'></a> "
   ]
  },
  {
   "cell_type": "markdown",
   "metadata": {},
   "source": [
    "### 1.1. Existence of a unique minimizer<a id='I1'></a> "
   ]
  },
  {
   "cell_type": "markdown",
   "metadata": {},
   "source": [
    "We assume that $f\\in C^1(\\mathbf{R})$ and there exists some $\\delta>0$ such that\n",
    "\n",
    "$$\\tag{3}(f'(x)-f'(y))(x-y)\\ge\\delta|x-y|^2\\quad\\forall\\,x,y\\in\\mathbf{R}.$$ "
   ]
  },
  {
   "cell_type": "markdown",
   "metadata": {},
   "source": [
    "**Question 1.** Show that $f$ is coercive<br>\n",
    "(*Hint: using the Taylor formula with integral remainder, show that $$f(x)\\ge f(0)+f'(0)x+\\delta x^2/2,$$ first for $x>0$, then for $x<0$.*)\n",
    "\n",
    "**Question 2.** Show that $f$ is strictly convex. \n",
    "\n",
    "**Question 3.** Deduce that $f$ admits a unique minimizer $x^*\\in\\mathbb{R}$.\n",
    "\n",
    "**Question 4.** We assume now that $f\\in C^2(\\mathbb{R})$ and that there exists $\\delta>0$ such that $f''\\ge\\delta$. Show that (3) holds true."
   ]
  },
  {
   "cell_type": "markdown",
   "metadata": {},
   "source": [
    "### 1.2 Convergence of the algorithm<a id='I2'></a> "
   ]
  },
  {
   "cell_type": "markdown",
   "metadata": {},
   "source": [
    "**Question 5.**  Let us consider an affine mapping defined by $A(x)=ax+b$ with $a,b\\in\\mathbf{R}$, $a\\ne0$. Let $\\Lambda>0$ and $\\gamma\\in\\mathbf{R}$. We set \n",
    "$$F(x):=\\Lambda f(A(x))+\\gamma.$$\n",
    "Let $X^k$ be the sequence defined by the gradient descent algorithm for the optimization of $F$ with starting point $X^0:=A(x^0)$ and para-meter $\\alpha$. <br>\n",
    "Show that for every $k\\ge0$, $X^k=A(x^k)$.<br>\n",
    "Show that the stopping criterion (1) is satisfied simultaneously by $(F,X^k)$ and $(f,x^k)$.<br>\n",
    "Show the same result for the stopping criterion (2)."
   ]
  },
  {
   "cell_type": "markdown",
   "metadata": {},
   "source": [
    "We still assume that $f\\in C^1(\\mathbb{R})$ and that (3) holds true for some $\\beta>0$. We assume moreover that $f'$ is Lipschitz continuous, that is there exists $L>0$ such that \n",
    "$$\n",
    "\\tag{4}\n",
    "|f'(x)-f'(y)|\\le L|x-y|\\qquad\\forall x,y\\in\\mathbf{R}\n",
    "$$"
   ]
  },
  {
   "cell_type": "markdown",
   "metadata": {},
   "source": [
    "We fix $\\alpha,\\tau>0$ and $x^0\\in\\mathbf{R}$ and denote $x^k$ the sequence defined by the gradient descent algorithm (GD)."
   ]
  },
  {
   "cell_type": "markdown",
   "metadata": {},
   "source": [
    "**Question 6.**  Show that for $k\\ge0$,\n",
    "$$\n",
    "|x^{k+1}-x^*|^2\\le (1-2\\alpha\\delta + \\alpha^2 L^2)|x^k-x^*|^2.\n",
    "$$\n",
    "(*Hint: use $f'(x^*)=0$, (3) and (4)*)\n",
    "\n",
    "Deduce that for $0<\\alpha<2\\delta/L^2$, the algorithm converges and that the convergence is at least of order one: there exists $\\lambda=\\lambda(\\alpha)\\in(0,1)$ such that\n",
    "$$\n",
    "|x^k-x^*|\\le \\lambda^k |x^k-x^0|\\qquad\\forall\\,k\\ge0.\n",
    "$$\n",
    "The sequence converges at least geometrically.\n",
    "\n",
    "\n",
    "What is the optimal choice for $\\alpha$ ?"
   ]
  },
  {
   "cell_type": "markdown",
   "metadata": {},
   "source": [
    "## II. Numerical implementation<a id='II'></a> "
   ]
  },
  {
   "cell_type": "markdown",
   "metadata": {},
   "source": [
    "We apply the gradient descent method to the minimization on $\\mathbf{R}$ of \n",
    "$$\n",
    "f(x):=x^2 + \\sin x.\n",
    "$$"
   ]
  },
  {
   "cell_type": "markdown",
   "metadata": {},
   "source": [
    "**Question 7.** Show that there exist $\\delta,L>0$ such that $f$ satisfies (3) and (4). Give explicit values for $\\delta$ and $L$."
   ]
  },
  {
   "cell_type": "code",
   "execution_count": 1,
   "metadata": {},
   "outputs": [],
   "source": [
    "import numpy as np\n",
    "from matplotlib import pyplot as plt"
   ]
  },
  {
   "cell_type": "code",
   "execution_count": 2,
   "metadata": {},
   "outputs": [
    {
     "data": {
      "image/png": "[encoded data removed]",
      "text/plain": [
       "<Figure size 432x288 with 1 Axes>"
      ]
     },
     "metadata": {
      "needs_background": "light"
     },
     "output_type": "display_data"
    },
    {
     "data": {
      "image/png": "[encoded data removed]",
      "text/plain": [
       "<Figure size 432x288 with 1 Axes>"
      ]
     },
     "metadata": {
      "needs_background": "light"
     },
     "output_type": "display_data"
    }
   ],
   "source": [
    "f=lambda x: x**2 + np.sin(x)\n",
    "df = lambda x: 2*x + np.cos(x)\n",
    "x=np.linspace(-1,1,300)\n",
    "plt.plot(x,f(x))\n",
    "plt.title(r\"graph of $f$\")\n",
    "plt.show()\n",
    "plt.plot(x,df(x))\n",
    "plt.plot(x,0*x)\n",
    "plt.title(r\"graph of $f'$\")\n",
    "plt.show()"
   ]
  },
  {
   "cell_type": "markdown",
   "metadata": {},
   "source": [
    "**Question 8.** Implement the algorithm. Choose for $\\alpha$ the value computed at the end of question 6. Take $x^0=0$ and use the stopping criterion (1) with $\\tau=10^{-11}$.\n",
    "\n",
    "To avoid infinite loops, we add a stopping criterion $k\\le maxiter$ with $maxiter=10^3$.\n",
    "\n",
    "We will store the values of $x^k$ and $f'(x^k)$ in the lists *list_x*, *list_g*. They are transformed into numpy arrays at the end."
   ]
  },
  {
   "cell_type": "code",
   "execution_count": null,
   "metadata": {},
   "outputs": [],
   "source": [
    "tau, maxiter=1e-11, 1000\n",
    "#alpha =?\n",
    "k=0\n",
    "x=0\n",
    "g= df(x)\n",
    "list_x, list_g= [x], [g]\n",
    "pass\n",
    "\n",
    "while True:\n",
    "    pass\n",
    "    list_x.append(x); list_g.append(g)\n",
    "    \n",
    "list_x=np.array(list_x);list_g=np.array(list_g)"
   ]
  },
  {
   "cell_type": "markdown",
   "metadata": {},
   "source": [
    "**Question 9.** Represent $|df(x^k)|$ as a function of $k$ in log scale (use *plt.semilogy*)."
   ]
  },
  {
   "cell_type": "code",
   "execution_count": null,
   "metadata": {},
   "outputs": [],
   "source": []
  },
  {
   "cell_type": "markdown",
   "metadata": {},
   "source": [
    "**Question 10.** Represent $|x^k-x^*|$ as a function of $k$ in log scale. To get a precise approximation of $x^*$, Newton's method is implemented below for solving $f'(x)=0$."
   ]
  },
  {
   "cell_type": "code",
   "execution_count": null,
   "metadata": {},
   "outputs": [],
   "source": [
    "# Newton method for the computation \n",
    "# of a precise approximation of x*\n",
    "ddf = lambda x:2 - np.sin(x)\n",
    "x=0\n",
    "for j in range(5):\n",
    "    x = x - df(x)/ddf(x)\n",
    "    print(df(x))\n",
    "xstar=x"
   ]
  },
  {
   "cell_type": "code",
   "execution_count": null,
   "metadata": {},
   "outputs": [],
   "source": []
  },
  {
   "cell_type": "markdown",
   "metadata": {},
   "source": [
    "**Question 11.** We now consider $$f(x):=x^2 + 12\\sin x.$$\n",
    "\n",
    "Find numerical approximations of the two local minimizers of $f$."
   ]
  },
  {
   "cell_type": "code",
   "execution_count": null,
   "metadata": {},
   "outputs": [],
   "source": [
    "f=lambda x: x**2 + 12*np.sin(x)\n",
    "df = lambda x: 2*x + 12*np.cos(x)\n",
    "x=np.linspace(-5,8,300)\n",
    "plt.plot(x,f(x))\n",
    "plt.title(r\"graph of $f$\")\n",
    "plt.show()\n",
    "plt.plot(x,df(x))\n",
    "plt.plot(x,0*x)\n",
    "plt.title(r\"graph of $f'$\")\n",
    "plt.show()"
   ]
  },
  {
   "cell_type": "markdown",
   "metadata": {},
   "source": [
    "## III. Varying step and line search strategy <a id='III'></a> \n",
    "\n",
    "The gradient descent algorithm with varying step is defined as follows. Let $x^0\\in \\mathbb{R}$ (we try to choose $x^0$ close to $x^*$, if no hint, then we take $x^0=0$). Then, for $k=0,1,2,\\ldots\\ $ up to onvergence, repeat:\n",
    "\n",
    "$$\n",
    "\\left|\\quad\n",
    "\\begin{array}{lcl}\n",
    "d^k& \\longleftarrow & -\\nabla f(x^k),\\\\ \n",
    "x^{k+1}&\\longleftarrow &x^k+\\alpha_k d^k\n",
    "\\end{array}\n",
    "\\right.\n",
    "$$"
   ]
  },
  {
   "cell_type": "markdown",
   "metadata": {},
   "source": [
    "Here the learning rate $\\alpha_k>0$ depends on $k$. There are two competing principles that should govern the choice of the learning rate:<br>\n",
    "$\\quad\\bullet$ If it is too small, we may approach the minimizer very slowly.<br>\n",
    "$\\quad\\bullet$ If it is too large, the sequence $x^k$ may diverge."
   ]
  },
  {
   "cell_type": "markdown",
   "metadata": {},
   "source": [
    "To find a convenient learning rate, we propose to use a Line Search method based on Armijo's condition. The general algorithm is the following:<br>\n",
    "$\\quad\\bullet$ Pick $x^0\\in\\mathbf{R}$,<br>\n",
    "$\\quad\\bullet$ Then, for $k=0,1,2,\\ldots\\ $ up to onvergence, repeat:\n",
    "\n",
    "$$\n",
    "\\left|\\quad\n",
    "\\begin{array}{lcl}\n",
    "d^k& \\longleftarrow & -\\nabla f(x^k),\\\\ \n",
    "\\alpha_k&\\longleftarrow & \\text{Line search }\\Big(t\\mapsto f(x^k+t d^k)\\Big)\\\\\n",
    "x^{k+1}&\\longleftarrow &x^k+\\alpha_k d^k\n",
    "\\end{array}\n",
    "\\right.\n",
    "$$"
   ]
  },
  {
   "cell_type": "markdown",
   "metadata": {},
   "source": [
    "The second step consists in an approximate optimization of \n",
    "$$\n",
    "f_k(t):= f(x_k+td_k).\n",
    "$$\n",
    "The function $f_k$ is strongly convex and $C^1$, because $f$ is. We compute \n",
    "$$f_k'(0)=d^kf'(x^k)=-|d^k|^2.$$\n",
    "From now on, we assume $f'(x^k)=-d^k\\ne 0$ otherwise $x^k=x^*$ and the algorithm has already converged. We thus have $f_k'(0)<0$, so the minimizer of $f_k$ is positive. Moreover the Taylor expansion of $f$ at 0 of order 1 reads\n",
    "$$\\tag{5}\n",
    "f_k(t)=f_k(0) - |d^k|^2 t + o(t),\n",
    "$$\n",
    "hence $f_k(t)<f_k(0)$ for $t>0$ small enough.\n",
    "\n",
    "We now introduce a parameter $\\gamma\\in(0,1)$. We say that $t$ satisfies the Armijo condition if \n",
    "$$\n",
    "f_k(t)\\le f_k(0) - \\gamma |d^k|^2 t.\\tag{Armijo}\n",
    "$$\n",
    "From (5), we have\n",
    "$$\n",
    "f_k(t)\\le f_k(0) - \\gamma |d^k|^2 t -(1-\\gamma)|d^k|^2 t + o(t),\n",
    "$$\n",
    "and since $(1-\\gamma)|d^k|^2>0$, the condition (Armijo) is satisfied for $t>0$ small enough. "
   ]
  },
  {
   "cell_type": "markdown",
   "metadata": {},
   "source": [
    "We are now ready to describe the Line Search. We introduce two parameters $\\alpha^0>0$ and $\\beta\\in(0,1)$. The algorithm computing $\\alpha_k$ is the following. <br>\n",
    "$\\quad\\bullet$ First set $t\\longleftarrow\\alpha^0$.<br>\n",
    "$\\quad\\bullet$ Then, while $t$ does not satisfy (Armijo), set $t\\longleftarrow \\beta t$.<br>\n",
    "$\\quad\\bullet$ Eventually, set $\\alpha_k\\longleftarrow t$. \n"
   ]
  },
  {
   "cell_type": "markdown",
   "metadata": {},
   "source": [
    "**Question 12.** Take again $f(x)=x^2+\\sin x$. Implement the above method with $\\gamma=0.5$, $\\beta=0.75$ and $\\alpha^0=\\alpha$ where $\\alpha$ is the learning rate you used in the gradient descent algorithm with constant step . "
   ]
  },
  {
   "cell_type": "code",
   "execution_count": null,
   "metadata": {},
   "outputs": [],
   "source": [
    "f = lambda x: x**2 + np.sin(x)\n",
    "df = lambda x: 2*x + np.cos(x)\n",
    "\n",
    "tau, maxiter=1e-11, 100\n",
    "maxiterLS=10\n",
    "beta,gamma =.75,.5\n",
    "#alpha0 = ?\n"
   ]
  },
  {
   "cell_type": "code",
   "execution_count": null,
   "metadata": {},
   "outputs": [],
   "source": []
  }
 ],
 "metadata": {
  "kernelspec": {
   "display_name": "Python 3 (ipykernel)",
   "language": "python",
   "name": "python3"
  },
  "language_info": {
   "codemirror_mode": {
    "name": "ipython",
    "version": 3
   },
   "file_extension": ".py",
   "mimetype": "text/x-python",
   "name": "python",
   "nbconvert_exporter": "python",
   "pygments_lexer": "ipython3",
   "version": "3.9.2"
  }
 },
 "nbformat": 4,
 "nbformat_minor": 4
}
